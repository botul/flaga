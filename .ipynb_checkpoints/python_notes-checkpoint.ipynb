{
 "cells": [
  {
   "cell_type": "markdown",
   "id": "c95dae88",
   "metadata": {},
   "source": [
    "# Python - notatki"
   ]
  },
  {
   "cell_type": "markdown",
   "id": "7b4663df",
   "metadata": {},
   "source": [
    "Fuknkcja:"
   ]
  },
  {
   "cell_type": "code",
   "execution_count": null,
   "id": "be1ac243",
   "metadata": {},
   "outputs": [],
   "source": [
    "def funkcja():\n",
    "    x = \"bla bla bla\"\n",
    "    return x\n"
   ]
  }
 ],
 "metadata": {
  "kernelspec": {
   "display_name": "Python 3 (ipykernel)",
   "language": "python",
   "name": "python3"
  },
  "language_info": {
   "codemirror_mode": {
    "name": "ipython",
    "version": 3
   },
   "file_extension": ".py",
   "mimetype": "text/x-python",
   "name": "python",
   "nbconvert_exporter": "python",
   "pygments_lexer": "ipython3",
   "version": "3.10.2"
  }
 },
 "nbformat": 4,
 "nbformat_minor": 5
}
